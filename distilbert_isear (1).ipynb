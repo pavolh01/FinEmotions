{
  "cells": [
    {
      "cell_type": "code",
      "execution_count": null,
      "id": "29cd2b79-cb4b-412a-8e69-ed35f9f6703f",
      "metadata": {
        "id": "29cd2b79-cb4b-412a-8e69-ed35f9f6703f"
      },
      "outputs": [],
      "source": []
    },
    {
      "cell_type": "code",
      "execution_count": null,
      "id": "9133302b-da18-4c3d-90a1-2f8f1fa5dfb8",
      "metadata": {
        "colab": {
          "referenced_widgets": [
            "2f6af162f0624ba9a3b328998cf96753",
            "1f3e8a2cc4ee4a18816fc42df0a437c7"
          ]
        },
        "id": "9133302b-da18-4c3d-90a1-2f8f1fa5dfb8",
        "outputId": "2bc43824-1c52-44a9-ffbd-eb63ee3a7262"
      },
      "outputs": [
        {
          "data": {
            "application/vnd.jupyter.widget-view+json": {
              "model_id": "2f6af162f0624ba9a3b328998cf96753",
              "version_major": 2,
              "version_minor": 0
            },
            "text/plain": [
              "Map:   0%|          | 0/6124 [00:00<?, ? examples/s]"
            ]
          },
          "metadata": {},
          "output_type": "display_data"
        },
        {
          "data": {
            "application/vnd.jupyter.widget-view+json": {
              "model_id": "1f3e8a2cc4ee4a18816fc42df0a437c7",
              "version_major": 2,
              "version_minor": 0
            },
            "text/plain": [
              "Map:   0%|          | 0/1532 [00:00<?, ? examples/s]"
            ]
          },
          "metadata": {},
          "output_type": "display_data"
        },
        {
          "name": "stderr",
          "output_type": "stream",
          "text": [
            "Some weights of DistilBertForSequenceClassification were not initialized from the model checkpoint at distilbert-base-uncased and are newly initialized: ['classifier.bias', 'classifier.weight', 'pre_classifier.bias', 'pre_classifier.weight']\n",
            "You should probably TRAIN this model on a down-stream task to be able to use it for predictions and inference.\n",
            "/opt/conda/lib/python3.11/site-packages/transformers/training_args.py:1575: FutureWarning: `evaluation_strategy` is deprecated and will be removed in version 4.46 of 🤗 Transformers. Use `eval_strategy` instead\n",
            "  warnings.warn(\n"
          ]
        },
        {
          "name": "stdout",
          "output_type": "stream",
          "text": [
            "⏳ Starting DistilBERT fine-tuning on ISEAR dataset...\n"
          ]
        },
        {
          "data": {
            "text/html": [
              "\n",
              "    <div>\n",
              "      \n",
              "      <progress value='3830' max='3830' style='width:300px; height:20px; vertical-align: middle;'></progress>\n",
              "      [3830/3830 03:54, Epoch 10/10]\n",
              "    </div>\n",
              "    <table border=\"1\" class=\"dataframe\">\n",
              "  <thead>\n",
              " <tr style=\"text-align: left;\">\n",
              "      <th>Epoch</th>\n",
              "      <th>Training Loss</th>\n",
              "      <th>Validation Loss</th>\n",
              "      <th>Accuracy</th>\n",
              "      <th>Precision</th>\n",
              "      <th>Recall</th>\n",
              "      <th>F1</th>\n",
              "    </tr>\n",
              "  </thead>\n",
              "  <tbody>\n",
              "    <tr>\n",
              "      <td>1</td>\n",
              "      <td>1.046100</td>\n",
              "      <td>0.964145</td>\n",
              "      <td>0.667102</td>\n",
              "      <td>0.667757</td>\n",
              "      <td>0.667102</td>\n",
              "      <td>0.665076</td>\n",
              "    </tr>\n",
              "    <tr>\n",
              "      <td>2</td>\n",
              "      <td>0.698100</td>\n",
              "      <td>0.896063</td>\n",
              "      <td>0.679504</td>\n",
              "      <td>0.688314</td>\n",
              "      <td>0.679504</td>\n",
              "      <td>0.676591</td>\n",
              "    </tr>\n",
              "    <tr>\n",
              "      <td>3</td>\n",
              "      <td>0.593400</td>\n",
              "      <td>0.927258</td>\n",
              "      <td>0.691906</td>\n",
              "      <td>0.703002</td>\n",
              "      <td>0.691906</td>\n",
              "      <td>0.693932</td>\n",
              "    </tr>\n",
              "    <tr>\n",
              "      <td>4</td>\n",
              "      <td>0.427900</td>\n",
              "      <td>0.997891</td>\n",
              "      <td>0.689948</td>\n",
              "      <td>0.694797</td>\n",
              "      <td>0.689948</td>\n",
              "      <td>0.690104</td>\n",
              "    </tr>\n",
              "    <tr>\n",
              "      <td>5</td>\n",
              "      <td>0.355000</td>\n",
              "      <td>1.119210</td>\n",
              "      <td>0.682768</td>\n",
              "      <td>0.692831</td>\n",
              "      <td>0.682768</td>\n",
              "      <td>0.685843</td>\n",
              "    </tr>\n",
              "    <tr>\n",
              "      <td>6</td>\n",
              "      <td>0.130200</td>\n",
              "      <td>1.225495</td>\n",
              "      <td>0.687990</td>\n",
              "      <td>0.696029</td>\n",
              "      <td>0.687990</td>\n",
              "      <td>0.690495</td>\n",
              "    </tr>\n",
              "    <tr>\n",
              "      <td>7</td>\n",
              "      <td>0.075800</td>\n",
              "      <td>1.338250</td>\n",
              "      <td>0.695822</td>\n",
              "      <td>0.698323</td>\n",
              "      <td>0.695822</td>\n",
              "      <td>0.696890</td>\n",
              "    </tr>\n",
              "    <tr>\n",
              "      <td>8</td>\n",
              "      <td>0.116900</td>\n",
              "      <td>1.468723</td>\n",
              "      <td>0.690601</td>\n",
              "      <td>0.692178</td>\n",
              "      <td>0.690601</td>\n",
              "      <td>0.691189</td>\n",
              "    </tr>\n",
              "    <tr>\n",
              "      <td>9</td>\n",
              "      <td>0.046300</td>\n",
              "      <td>1.509627</td>\n",
              "      <td>0.699739</td>\n",
              "      <td>0.706248</td>\n",
              "      <td>0.699739</td>\n",
              "      <td>0.702085</td>\n",
              "    </tr>\n",
              "    <tr>\n",
              "      <td>10</td>\n",
              "      <td>0.031900</td>\n",
              "      <td>1.528388</td>\n",
              "      <td>0.695822</td>\n",
              "      <td>0.699403</td>\n",
              "      <td>0.695822</td>\n",
              "      <td>0.697245</td>\n",
              "    </tr>\n",
              "  </tbody>\n",
              "</table><p>"
            ],
            "text/plain": [
              "<IPython.core.display.HTML object>"
            ]
          },
          "metadata": {},
          "output_type": "display_data"
        },
        {
          "name": "stdout",
          "output_type": "stream",
          "text": [
            "✅ Training completed! 🕒 Training time: 3.91 minutes\n"
          ]
        },
        {
          "data": {
            "text/html": [
              "\n",
              "    <div>\n",
              "      \n",
              "      <progress value='96' max='96' style='width:300px; height:20px; vertical-align: middle;'></progress>\n",
              "      [96/96 00:01]\n",
              "    </div>\n",
              "    "
            ],
            "text/plain": [
              "<IPython.core.display.HTML object>"
            ]
          },
          "metadata": {},
          "output_type": "display_data"
        },
        {
          "name": "stdout",
          "output_type": "stream",
          "text": [
            "📊 DistilBERT Evaluation Results:\n",
            "{'eval_loss': 1.5283881425857544, 'eval_accuracy': 0.695822454308094, 'eval_precision': 0.6994029369584668, 'eval_recall': 0.695822454308094, 'eval_f1': 0.6972453390895582, 'eval_runtime': 1.3956, 'eval_samples_per_second': 1097.716, 'eval_steps_per_second': 68.786, 'epoch': 10.0}\n"
          ]
        }
      ],
      "source": [
        "import torch\n",
        "import numpy as np\n",
        "import pandas as pd\n",
        "import time  # Import time module\n",
        "from datasets import Dataset\n",
        "from transformers import AutoTokenizer, AutoModelForSequenceClassification, Trainer, TrainingArguments\n",
        "from sklearn.metrics import accuracy_score, precision_recall_fscore_support\n",
        "\n",
        "# 🔹 1. Load dataset\n",
        "train_df = pd.read_csv(\"ISEAR_train.csv\")\n",
        "test_df = pd.read_csv(\"ISEAR_test.csv\")\n",
        "\n",
        "# 🔹 2. Map emotions to numerical labels\n",
        "unique_emotions = sorted(train_df[\"emotion\"].unique())\n",
        "emotion2label = {emotion: idx for idx, emotion in enumerate(unique_emotions)}\n",
        "label2emotion = {idx: emotion for emotion, idx in emotion2label.items()}\n",
        "\n",
        "train_df[\"label\"] = train_df[\"emotion\"].map(emotion2label)\n",
        "test_df[\"label\"] = test_df[\"emotion\"].map(emotion2label)\n",
        "\n",
        "# 🔹 3. Convert to Hugging Face Dataset format\n",
        "train_dataset = Dataset.from_pandas(train_df[[\"text\", \"label\"]])\n",
        "test_dataset = Dataset.from_pandas(test_df[[\"text\", \"label\"]])\n",
        "\n",
        "# 🔹 4. Tokenization\n",
        "model_name = \"distilbert-base-uncased\"\n",
        "tokenizer = AutoTokenizer.from_pretrained(model_name)\n",
        "\n",
        "def tokenize_function(examples):\n",
        "    return tokenizer(examples[\"text\"], padding=\"max_length\", truncation=True, max_length=128)\n",
        "\n",
        "train_dataset = train_dataset.map(tokenize_function, batched=True)\n",
        "test_dataset = test_dataset.map(tokenize_function, batched=True)\n",
        "\n",
        "train_dataset.set_format(type=\"torch\", columns=[\"input_ids\", \"attention_mask\", \"label\"])\n",
        "test_dataset.set_format(type=\"torch\", columns=[\"input_ids\", \"attention_mask\", \"label\"])\n",
        "\n",
        "# 🔹 5. Load model\n",
        "num_labels = len(emotion2label)\n",
        "model = AutoModelForSequenceClassification.from_pretrained(model_name, num_labels=num_labels)\n",
        "\n",
        "# 🔹 6. Training parameters\n",
        "training_args = TrainingArguments(\n",
        "    output_dir=\"./distilbert_finetuned\",\n",
        "    evaluation_strategy=\"epoch\",\n",
        "    save_strategy=\"epoch\",\n",
        "    learning_rate=2e-5,\n",
        "    per_device_train_batch_size=16,\n",
        "    per_device_eval_batch_size=16,\n",
        "    num_train_epochs=10,\n",
        "    weight_decay=0.01,\n",
        "    logging_dir=\"./logs\",\n",
        "    logging_steps=10,\n",
        ")\n",
        "\n",
        "# 🔹 7. Evaluation metrics\n",
        "def compute_metrics(eval_pred):\n",
        "    logits, labels = eval_pred\n",
        "    predictions = np.argmax(logits, axis=-1)\n",
        "    accuracy = accuracy_score(labels, predictions)\n",
        "    precision, recall, f1, _ = precision_recall_fscore_support(labels, predictions, average=\"weighted\")\n",
        "    return {\"accuracy\": accuracy, \"precision\": precision, \"recall\": recall, \"f1\": f1}\n",
        "\n",
        "# 🔹 8. Trainer\n",
        "trainer = Trainer(\n",
        "    model=model,\n",
        "    args=training_args,\n",
        "    train_dataset=train_dataset,\n",
        "    eval_dataset=test_dataset,\n",
        "    compute_metrics=compute_metrics,\n",
        ")\n",
        "\n",
        "# 🔹 9. Training with time tracking\n",
        "print(\"⏳ Starting DistilBERT fine-tuning on ISEAR dataset...\")\n",
        "start_time = time.time()  # Start timing\n",
        "\n",
        "trainer.train()\n",
        "\n",
        "end_time = time.time()  # End timing\n",
        "training_time = end_time - start_time\n",
        "\n",
        "print(f\"✅ Training completed! 🕒 Training time: {training_time / 60:.2f} minutes\")\n",
        "\n",
        "# 🔹 10. Save model\n",
        "model.save_pretrained(\"./distilbert_finetuned\")\n",
        "tokenizer.save_pretrained(\"./distilbert_finetuned\")\n",
        "\n",
        "# 🔹 11. Evaluation on test dataset\n",
        "results = trainer.evaluate()\n",
        "print(\"📊 DistilBERT Evaluation Results:\")\n",
        "print(results)\n"
      ]
    },
    {
      "cell_type": "code",
      "execution_count": null,
      "id": "7d6f65fe-2a15-4756-8ccb-128178f12d4b",
      "metadata": {
        "id": "7d6f65fe-2a15-4756-8ccb-128178f12d4b"
      },
      "outputs": [],
      "source": []
    },
    {
      "cell_type": "code",
      "execution_count": null,
      "id": "73920ab2-f241-478b-86fc-03a0e507d3ab",
      "metadata": {
        "id": "73920ab2-f241-478b-86fc-03a0e507d3ab"
      },
      "outputs": [],
      "source": []
    },
    {
      "cell_type": "code",
      "execution_count": null,
      "id": "a256a744-85d8-48b2-8630-67b3cdf9b6b4",
      "metadata": {
        "id": "a256a744-85d8-48b2-8630-67b3cdf9b6b4"
      },
      "outputs": [],
      "source": []
    }
  ],
  "metadata": {
    "kernelspec": {
      "display_name": "Python [conda env:base] *",
      "language": "python",
      "name": "conda-base-py"
    },
    "language_info": {
      "codemirror_mode": {
        "name": "ipython",
        "version": 3
      },
      "file_extension": ".py",
      "mimetype": "text/x-python",
      "name": "python",
      "nbconvert_exporter": "python",
      "pygments_lexer": "ipython3",
      "version": "3.11.6"
    },
    "colab": {
      "provenance": []
    }
  },
  "nbformat": 4,
  "nbformat_minor": 5
}